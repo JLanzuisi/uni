{
 "cells": [
  {
   "cell_type": "markdown",
   "id": "4cc5f87b-67b4-41e9-ac8a-7ebf0aca9f70",
   "metadata": {},
   "source": [
    "# <span style=\"color:#8B0000;font-family:Papirus\">Tarea 5</span>"
   ]
  },
  {
   "cell_type": "markdown",
   "id": "f3107c5a-10a7-4cda-a502-54749925e7e5",
   "metadata": {},
   "source": [
    "### <span style=\"color:#8B0000;font-family:Papirus\">Jhonny Lanzuisi</span>"
   ]
  },
  {
   "cell_type": "markdown",
   "id": "e8935fd0-897d-4f77-b8b5-f9bdb0c6e843",
   "metadata": {},
   "source": [
    "1. Dado un entero positivo $r$; a partir de\n",
    "$$ $$\n",
    "$$(1 - x + x^2)^{3r} = a_0 + a_1x + a_2x^2 + \\cdots + a_{6r}x^{6r}$$\n",
    "$$ $$\n",
    "$$(1 + x)^{3r} = b_0 + b_1x + b_2x^2 + \\cdots + b_{3r}x^{3r}$$\n",
    "$$ $$\n",
    "   demuestra que\n",
    "$$ $$ \n",
    "$$\\sum_{n = 0}^{3r}a_nb_{3r - n} = \\binom{3r}{r}$$\n",
    "$$ $$\n",
    "2. La siguiente regla proporciona un método para enumerar todas las particiones de $n$ en orden lexicográfico. La primera partición es $[n]$. Supongamos que hemos llegado a una partición $\\lambda$ con partes $\\lambda_1$, $\\lambda_2$, $\\dots$, $\\lambda_r$. Entonces la siguiente partición se obtiene así: \n",
    "   - si $\\lambda_r \\not= 1$, entonces las partes de la siguiente partición son $\\lambda_1$, $\\lambda_2$, $\\dots$, $\\lambda_{r - 1}$, $\\lambda_r - 1$, $1$;\n",
    "   - si $\\lambda_r = \\lambda_{r - 1} = \\cdots = \\lambda_{r - s + 1}$ pero $\\lambda_{r - s} = x \\not= 1$, entonces las partes de la siguiente partición se obtienen sustituyendo $\\lambda_{r - s}$, $\\lambda_{r - s + 1}$, $\\dots$, $\\lambda_r$ por $x - 1$, $x - 1$, $x - 1$, $\\dots$, $x - 1$, $y$, donde $1 \\leq y \\leq x - 1$  y el número de partes iguales a $x - 1$ se elige de forma que el resultado sea una partición de $n$.\n",
    "   \n",
    "   Utiliza esta regla para enumerar las particiones de $8$.\n",
    "3. Escribe una función de python basada en el ejercicio anterior."
   ]
  },
  {
   "cell_type": "code",
   "execution_count": null,
   "id": "8e28bc17-1592-4759-a398-882515c4dcad",
   "metadata": {},
   "outputs": [],
   "source": []
  }
 ],
 "metadata": {
  "kernelspec": {
   "display_name": "Python 3 (ipykernel)",
   "language": "python",
   "name": "python3"
  },
  "language_info": {
   "codemirror_mode": {
    "name": "ipython",
    "version": 3
   },
   "file_extension": ".py",
   "mimetype": "text/x-python",
   "name": "python",
   "nbconvert_exporter": "python",
   "pygments_lexer": "ipython3",
   "version": "3.9.6"
  }
 },
 "nbformat": 4,
 "nbformat_minor": 5
}
