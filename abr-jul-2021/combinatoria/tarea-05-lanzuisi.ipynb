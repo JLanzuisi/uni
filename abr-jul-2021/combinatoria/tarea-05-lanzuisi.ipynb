{
 "cells": [
  {
   "cell_type": "markdown",
   "id": "4cc5f87b-67b4-41e9-ac8a-7ebf0aca9f70",
   "metadata": {},
   "source": [
    "# <span style=\"color:#8B0000;font-family:Papirus\">Tarea 5</span>"
   ]
  },
  {
   "cell_type": "markdown",
   "id": "f3107c5a-10a7-4cda-a502-54749925e7e5",
   "metadata": {},
   "source": [
    "### <span style=\"color:#8B0000;font-family:Papirus\">Jhonny Lanzuisi</span>"
   ]
  },
  {
   "cell_type": "markdown",
   "id": "e8935fd0-897d-4f77-b8b5-f9bdb0c6e843",
   "metadata": {},
   "source": [
    "1. Dado un entero positivo $r$; a partir de\n",
    "$$ $$\n",
    "$$(1 - x + x^2)^{3r} = a_0 + a_1x + a_2x^2 + \\cdots + a_{6r}x^{6r}$$\n",
    "$$ $$\n",
    "$$(1 + x)^{3r} = b_0 + b_1x + b_2x^2 + \\cdots + b_{3r}x^{3r}$$\n",
    "$$ $$\n",
    "   demuestra que\n",
    "$$ $$ \n",
    "$$\\sum_{n = 0}^{3r}a_nb_{3r - n} = \\binom{3r}{r}$$\n",
    "$$ $$\n",
    "2. La siguiente regla proporciona un método para enumerar todas las particiones de $n$ en orden lexicográfico. La primera partición es $[n]$. Supongamos que hemos llegado a una partición $\\lambda$ con partes $\\lambda_1$, $\\lambda_2$, $\\dots$, $\\lambda_r$. Entonces la siguiente partición se obtiene así: \n",
    "   - si $\\lambda_r \\not= 1$, entonces las partes de la siguiente partición son $\\lambda_1$, $\\lambda_2$, $\\dots$, $\\lambda_{r - 1}$, $\\lambda_r - 1$, $1$;\n",
    "   - si $\\lambda_r = \\lambda_{r - 1} = \\cdots = \\lambda_{r - s + 1}$ pero $\\lambda_{r - s} = x \\not= 1$, entonces las partes de la siguiente partición se obtienen sustituyendo $\\lambda_{r - s}$, $\\lambda_{r - s + 1}$, $\\dots$, $\\lambda_r$ por $x - 1$, $x - 1$, $x - 1$, $\\dots$, $x - 1$, $y$, donde $1 \\leq y \\leq x - 1$  y el número de partes iguales a $x - 1$ se elige de forma que el resultado sea una partición de $n$.\n",
    "   \n",
    "   Utiliza esta regla para enumerar las particiones de $8$.\n",
    "3. Escribe una función de python basada en el ejercicio anterior."
   ]
  },
  {
   "cell_type": "markdown",
   "id": "ecbb36b6",
   "metadata": {},
   "source": [
    "## Respuestas\n"
   ]
  },
  {
   "cell_type": "markdown",
   "id": "f57a9565",
   "metadata": {},
   "source": [
    "### Segunda pregunta\n",
    "\n",
    "Al usar el algoritmo se obtuvieron las siguientes particiones de 8,\n",
    "en el orden que se muestran:\n",
    "\n",
    "```\n",
    "[8]\n",
    "[7 1]\n",
    "[6 2]\n",
    "[6 1²]\n",
    "[5 3]\n",
    "[5 2 1]\n",
    "[5 1³]\n",
    "[4²]\n",
    "[4 3 1]\n",
    "[4 2²]\n",
    "[4 2 1²]\n",
    "[4 1⁴]\n",
    "[3² 2]\n",
    "[3² 1²]\n",
    "[3 2² 1]\n",
    "[3 2 1³]\n",
    "[3 1⁵]\n",
    "[2⁴]\n",
    "[2³ 1²]\n",
    "[2² 1⁴]\n",
    "[2 1⁶]\n",
    "[1⁸]\n",
    "```"
   ]
  },
  {
   "cell_type": "markdown",
   "id": "444b7b7c",
   "metadata": {},
   "source": [
    "### Tercera pregunta\n",
    "\n",
    "La función `lexicographic_partition` toma un entero positivo `N` y\n",
    "devuelve las particiones de `N` en orden lexicográfico, usando el algoritmo\n",
    "de la pregunta dos."
   ]
  },
  {
   "cell_type": "code",
   "execution_count": null,
   "id": "a94c4733",
   "metadata": {},
   "outputs": [],
   "source": [
    "def sum_less_than(N: int, integers: [int]) -> bool:\n",
    "  \"\"\"\n",
    "  Return true if the sum of integers is smaller than N.\n",
    "  Return false otherwise.\n",
    "  \"\"\"\n",
    "  if sum(integers) <= N:\n",
    "    return True\n",
    "  else:\n",
    "    return False\n",
    "\n",
    "def lexicographic_partition(N: int) -> None:\n",
    "  \"\"\"\n",
    "  Print the partitions of N in lexicographic order to stdout.\n",
    "  \"\"\"\n",
    "  assert N > 0, \"Input must be a positive integer\"\n",
    "\n",
    "  import sympy\n",
    "\n",
    "  number_of_partitions = sympy.partition(N)\n",
    "  current_partition = []\n",
    "\n",
    "  for i in range(0, number_of_partitions):\n",
    "    if i == 0:\n",
    "      current_partition = [N]\n",
    "    # We must have len(current_partition) != N\n",
    "    # for the loop to handle correctly the last partition\n",
    "    # (the one with only ones).\n",
    "    if i > 0 and len(current_partition) != N:\n",
    "      if current_partition[-1] != 1:\n",
    "        current_partition[-1] -= 1\n",
    "        current_partition += [1]\n",
    "      else:\n",
    "        while current_partition[-1] == 1:\n",
    "            del current_partition[-1]\n",
    "        current_partition[-1] -= 1\n",
    "        # Again, we don't want the while loop to get\n",
    "        # stuck in the last partition.\n",
    "        while len(current_partition) != N:\n",
    "          current_partition_plus_last = current_partition + [current_partition[-1]]\n",
    "          if sum_less_than(N, current_partition_plus_last):\n",
    "            current_partition = current_partition_plus_last\n",
    "          else:\n",
    "            break\n",
    "        if sum(current_partition) != N:\n",
    "          current_partition += [N - sum(current_partition)]\n",
    "          \n",
    "    print(current_partition)\n",
    "    i += 1"
   ]
  },
  {
   "cell_type": "code",
   "execution_count": null,
   "id": "d444f4ac",
   "metadata": {},
   "outputs": [],
   "source": [
    "# Como una prueba, se puede ver que las particiones de 8\n",
    "# calculadas por la función coinciden con aquellas\n",
    "# calculadas a mano, en la pregunta 2.\n",
    "\n",
    "lexicographic_partition(8)"
   ]
  }
 ],
 "metadata": {
  "kernelspec": {
   "display_name": "Python 3 (ipykernel)",
   "language": "python",
   "name": "python3"
  },
  "language_info": {
   "codemirror_mode": {
    "name": "ipython",
    "version": 3
   },
   "file_extension": ".py",
   "mimetype": "text/x-python",
   "name": "python",
   "nbconvert_exporter": "python",
   "pygments_lexer": "ipython3",
   "version": "3.9.6"
  }
 },
 "nbformat": 4,
 "nbformat_minor": 5
}
